{
 "cells": [
  {
   "cell_type": "code",
   "execution_count": null,
   "id": "57d113f5-0ece-4b27-961c-69fa3ecdd42c",
   "metadata": {},
   "outputs": [],
   "source": [
    "Q1. Create a python program to sort the given list of tuples based on integer value using a\n",
    "lambda function.\n",
    "[('Sachin Tendulkar', 34357), ('Ricky Ponting', 27483), ('Jack Kallis', 25534), ('Virat Kohli', 24936)]"
   ]
  },
  {
   "cell_type": "code",
   "execution_count": 13,
   "id": "8d759908-a28a-4634-b753-da471894ed3a",
   "metadata": {},
   "outputs": [
    {
     "name": "stdout",
     "output_type": "stream",
     "text": [
      "Original list of tuples:\n",
      "[('Sachine Tendulkar', 34357), ('Ricky Pointing', 27483), ('Lack Kallis', 25534), ('Virat Kholi', 24936)]\n",
      "\n",
      "Sorting the List of Tuples:\n",
      "[('Sachine Tendulkar', 34357), ('Ricky Pointing', 27483), ('Lack Kallis', 25534), ('Virat Kholi', 24936)]\n"
     ]
    }
   ],
   "source": [
    "# ANSWER\n",
    "Batsman_runs = [('Sachine Tendulkar', 34357), ('Ricky Pointing', 27483), ('Lack Kallis', 25534), ('Virat Kholi', 24936)]\n",
    "print(\"Original list of tuples:\")\n",
    "print(Batsman_runs)\n",
    "subject_marks.sort(key = lambda x: x[1])\n",
    "print(\"\\nSorting the List of Tuples:\")\n",
    "print(Batsman_runs)"
   ]
  },
  {
   "cell_type": "code",
   "execution_count": null,
   "id": "aad324e0-6103-48b2-9b12-30931c63e67a",
   "metadata": {},
   "outputs": [],
   "source": [
    "Q2. Write a Python Program to find the squares of all the numbers in the given list of integers using\n",
    "lambda and map functions.\n",
    "[1, 2, 3, 4, 5, 6, 7, 8, 9, 10]"
   ]
  },
  {
   "cell_type": "code",
   "execution_count": 14,
   "id": "aa2d43ff-0512-434a-bc21-c96b009927c9",
   "metadata": {},
   "outputs": [
    {
     "name": "stdout",
     "output_type": "stream",
     "text": [
      "Original List:  [1, 2, 3, 4, 5, 6, 7, 8, 9, 10]\n",
      "Square the elements of the said list using map():\n",
      "[1, 4, 9, 16, 25, 36, 49, 64, 81, 100]\n"
     ]
    }
   ],
   "source": [
    "# ANSWER\n",
    "# Using map function\n",
    "def square_num(n):\n",
    "    return n*n\n",
    "nums = [1,2,3,4,5,6,7,8,9,10]\n",
    "print(\"Original List: \",nums)\n",
    "result = map(square_num, nums)\n",
    "print(\"Square the elements of the said list using map():\")\n",
    "print(list(result))"
   ]
  },
  {
   "cell_type": "code",
   "execution_count": 16,
   "id": "8bca64bb-507f-48de-b38a-3e7b7a236b21",
   "metadata": {},
   "outputs": [
    {
     "name": "stdout",
     "output_type": "stream",
     "text": [
      "[1, 2, 3, 4, 5, 6, 7, 8, 9, 10]\n",
      "\n",
      "Square of every number of the providw list:\n",
      "[1, 4, 9, 16, 25, 36, 49, 64, 81, 100]\n"
     ]
    }
   ],
   "source": [
    "# Using Lambda function\n",
    "numbers = [1,2,3,4,5,6,7,8,9,10]\n",
    "print(numbers)\n",
    "print(\"\\nSquare of every number of the providw list:\")\n",
    "square_numbers = list(map(lambda x: x**2, numbers))\n",
    "print(square_numbers)"
   ]
  },
  {
   "cell_type": "code",
   "execution_count": null,
   "id": "4e639653-6835-4d20-bc50-bd8d1ea85927",
   "metadata": {},
   "outputs": [],
   "source": [
    "Q3. Write a python program to convert the given list of integers into a tuple of strings. Use map and\n",
    "lambda functions\n",
    "Given String: [1, 2, 3, 4, 5, 6, 7, 8, 9, 10]\n",
    "Expected output: ('1', '2', '3', '4', '5', '6', '7', '8', '9', '10')"
   ]
  },
  {
   "cell_type": "code",
   "execution_count": 19,
   "id": "11e8312e-60c8-4dfe-8c79-9936d48ead43",
   "metadata": {},
   "outputs": [
    {
     "name": "stdout",
     "output_type": "stream",
     "text": [
      "Original list and tuple:\n",
      "[1, 2, 3, 4, 5, 6, 7, 8, 9, 10]\n",
      "(1, 2, 3, 4, 5, 6, 7, 8, 9, 10)\n",
      "\n",
      "List of string:\n",
      "['1', '2', '3', '4', '5', '6', '7', '8', '9', '10']\n",
      "\tupleList of string:\n",
      "('1', '2', '3', '4', '5', '6', '7', '8', '9', '10')\n"
     ]
    }
   ],
   "source": [
    "# ANSWER\n",
    "nums_list = [1,2,3,4,5,6,7,8,9,10]\n",
    "nums_tuple = (1,2,3,4,5,6,7,8,9,10)\n",
    "print(\"Original list and tuple:\")\n",
    "print(nums_list)\n",
    "print(nums_tuple)\n",
    "result_list = list(map(str,nums_list))\n",
    "result_tuple = tuple(map(str,nums_list))\n",
    "print(\"\\nList of string:\")\n",
    "print(result_list)\n",
    "print(\"\\tupleList of string:\")\n",
    "print(result_tuple)"
   ]
  },
  {
   "cell_type": "code",
   "execution_count": null,
   "id": "a2531f3f-11c4-416b-b624-b7decc33a0a0",
   "metadata": {},
   "outputs": [],
   "source": [
    "Q4. Write a python program using reduce function to compute the product of a list containing numbers\n",
    "from 1 to 25."
   ]
  },
  {
   "cell_type": "code",
   "execution_count": 25,
   "id": "0a3c55f2-9c4e-4d7d-add4-73fa5b35e5cd",
   "metadata": {},
   "outputs": [
    {
     "name": "stdout",
     "output_type": "stream",
     "text": [
      "Original list numbers:\n",
      "[1, 2, 3, 4, 5, 6, 7, 89, 10, 11, 12, 13, 14, 15, 16, 17, 18, 19, 20, 21, 22, 23, 24, 25]\n",
      "\n",
      "Product of the said numbers (without using for loop): 19173579081339691008000000\n"
     ]
    }
   ],
   "source": [
    "# ANSWER\n",
    "from functools import reduce\n",
    "nums = [1,2,3,4,5,6,7,89,10,11,12,13,14,15,16,17,18,19,20,21,22,23,24,25]\n",
    "print(\"Original list numbers:\")\n",
    "print(nums)\n",
    "nums_product = reduce( (lambda x, y: x * y), nums)\n",
    "print(\"\\nProduct of the said numbers (without using for loop):\",nums_product)"
   ]
  },
  {
   "cell_type": "code",
   "execution_count": null,
   "id": "2a02419d-1541-4b4d-baf0-0064255c37b2",
   "metadata": {},
   "outputs": [],
   "source": [
    "Q5. Write a python program to filter the numbers in a given list that are divisible by 2 and 3 using the\n",
    "filter function.\n",
    "[2, 3, 6, 9, 27, 60, 90, 120, 55, 46]\n"
   ]
  },
  {
   "cell_type": "code",
   "execution_count": 26,
   "id": "4ca95acd-7992-4ee1-86fc-e0196fae8ee7",
   "metadata": {},
   "outputs": [
    {
     "name": "stdout",
     "output_type": "stream",
     "text": [
      "Numbers divisible by 2,3 are [2, 3, 6, 27, 60, 90, 120, 55, 46]\n"
     ]
    }
   ],
   "source": [
    "# ANSWER\n",
    "num_list = [2,3,6,27,60,90,120,55,46]\n",
    "result = list(filter(lambda x: (x % 2,3 == 0), num_list))\n",
    "print(\"Numbers divisible by 2,3 are\",result)\n"
   ]
  },
  {
   "cell_type": "code",
   "execution_count": null,
   "id": "5cc0f630-dfa4-4570-ae7e-52361e15f19f",
   "metadata": {},
   "outputs": [],
   "source": [
    "Q6. Write a python program to find palindromes in the given list of strings using lambda and filter\n",
    "function.\n",
    "['python', 'php', 'aba', 'radar', 'level']"
   ]
  },
  {
   "cell_type": "code",
   "execution_count": null,
   "id": "1ad3ee9c-61a8-4c96-8ffa-dd01812c14a9",
   "metadata": {},
   "outputs": [],
   "source": [
    "# ANSWER\n",
    "texts = [\"python\", \"php\", \"aba\", \"abcd\", \"Java\", \"aaa\"]\n",
    "print(\"Orginal list of strings:\")\n",
    "print(texts) \n",
    "result = list(filter(lambda x: (x == \"\".join(reversed(x))), texts)) \n",
    "print(\"\\nList of palindromes:\")\n",
    "print(result) "
   ]
  }
 ],
 "metadata": {
  "kernelspec": {
   "display_name": "Python 3 (ipykernel)",
   "language": "python",
   "name": "python3"
  },
  "language_info": {
   "codemirror_mode": {
    "name": "ipython",
    "version": 3
   },
   "file_extension": ".py",
   "mimetype": "text/x-python",
   "name": "python",
   "nbconvert_exporter": "python",
   "pygments_lexer": "ipython3",
   "version": "3.10.8"
  }
 },
 "nbformat": 4,
 "nbformat_minor": 5
}
